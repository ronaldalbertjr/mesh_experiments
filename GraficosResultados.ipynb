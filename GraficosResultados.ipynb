{
 "cells": [
  {
   "cell_type": "code",
   "execution_count": null,
   "id": "268b6c4c",
   "metadata": {},
   "outputs": [],
   "source": [
    "import plotly.graph_objects as go\n",
    "import numpy as np\n",
    "import pandas as pd\n",
    "import pickle\n",
    "from deap.benchmarks.tools import hypervolume\n",
    "import numpy as np\n",
    "from pymoo.factory import get_performance_indicator\n",
    "from metrics import hypervolume\n",
    "from pymoo.factory import get_problem, get_reference_directions"
   ]
  },
  {
   "cell_type": "markdown",
   "id": "1026f1af",
   "metadata": {},
   "source": [
    "# Resultados - Bi-Objetivo"
   ]
  },
  {
   "cell_type": "markdown",
   "id": "dc1339bf",
   "metadata": {},
   "source": [
    "## DTLZ1"
   ]
  },
  {
   "cell_type": "code",
   "execution_count": null,
   "id": "a7f3b87d",
   "metadata": {},
   "outputs": [],
   "source": [
    "with open(\"result/E1V1D1_DTLZ1.pkl\", \"rb\") as f:\n",
    "    results_E1V1D1_DTLZ1 = pickle.load(f)"
   ]
  },
  {
   "cell_type": "code",
   "execution_count": null,
   "id": "bd3b74a7",
   "metadata": {},
   "outputs": [],
   "source": [
    "with open(\"result/E2V2D1_DTLZ1_2obj.pkl\", \"rb\") as f:\n",
    "    results_E2V2D1_DTLZ1 = pickle.load(f)"
   ]
  },
  {
   "cell_type": "code",
   "execution_count": null,
   "id": "db1d6298",
   "metadata": {},
   "outputs": [],
   "source": [
    "with open(\"result/NSGA3_DTLZ1.pkl\", \"rb\") as f:\n",
    "    results_NSGA3_DTLZ1 = pickle.load(f)"
   ]
  },
  {
   "cell_type": "code",
   "execution_count": null,
   "id": "2b438526",
   "metadata": {},
   "outputs": [],
   "source": [
    "pareto_front_dtlz1 = get_problem(\"dtlz1\", n_obj=2).pareto_front()"
   ]
  },
  {
   "cell_type": "code",
   "execution_count": null,
   "id": "87db161b",
   "metadata": {
    "scrolled": false
   },
   "outputs": [],
   "source": [
    "fig = go.Figure(data=[go.Scatter(x=results_E1V1D1_DTLZ1['combined'][1][:,0], \n",
    "                                   y=results_E1V1D1_DTLZ1['combined'][1][:,1], \n",
    "                                   mode='markers', name='MESH-E1V1D1'),\n",
    "                      go.Scatter(x=results_E2V2D1_DTLZ1['combined'][1][:,0], \n",
    "                                   y=results_E2V2D1_DTLZ1['combined'][1][:,1], \n",
    "                                   mode='markers', name='MESH-E2V2D1'),\n",
    "                     go.Scatter(x=results_NSGA3_DTLZ1['combined'][1][:,0], \n",
    "                                   y=results_NSGA3_DTLZ1['combined'][1][:,1], \n",
    "                                   mode='markers', name='NSGA-III'),\n",
    "                     go.Scatter(x=pareto_front_dtlz1[:,0], \n",
    "                                   y=pareto_front_dtlz1[:,1], \n",
    "                                   mode='markers', name='Fronteira de Pareto')])\n",
    "fig.show()"
   ]
  },
  {
   "cell_type": "code",
   "execution_count": null,
   "id": "a2fe70a6",
   "metadata": {},
   "outputs": [],
   "source": [
    "hv = get_performance_indicator(\"hv\", ref_point=np.array([11, 11]))\n",
    "\n",
    "print('Hypervolume-E1V1D1: ', hv.do(results_E1V1D1_DTLZ1['combined'][1]))\n",
    "print('Hypervolume-E2V2D1: ', hv.do(results_E2V2D1_DTLZ1['combined'][1]))\n",
    "print('Hypervolume-NSGA3: ', hv.do(results_NSGA3_DTLZ1['combined'][1]))\n",
    "print('Hypervolume-Pareto Front:', hv.do(pareto_front_dtlz1))"
   ]
  },
  {
   "cell_type": "markdown",
   "id": "152f1e1a",
   "metadata": {},
   "source": [
    "## ZDT1"
   ]
  },
  {
   "cell_type": "code",
   "execution_count": null,
   "id": "4a84965c",
   "metadata": {},
   "outputs": [],
   "source": [
    "with open(\"result/E1V1D1_ZDT1.pkl\", \"rb\") as f:\n",
    "    results_E1V1D1_ZDT1 = pickle.load(f)"
   ]
  },
  {
   "cell_type": "code",
   "execution_count": null,
   "id": "8e4fec3c",
   "metadata": {},
   "outputs": [],
   "source": [
    "with open(\"result/E2V2D1_ZDT1.pkl\", \"rb\") as f:\n",
    "    results_E2V2D1_ZDT1 = pickle.load(f)"
   ]
  },
  {
   "cell_type": "code",
   "execution_count": null,
   "id": "c8ae99e0",
   "metadata": {},
   "outputs": [],
   "source": [
    "with open(\"result/NSGA3_ZDT1.pkl\", \"rb\") as f:\n",
    "    results_NSGA3_ZDT1 = pickle.load(f)"
   ]
  },
  {
   "cell_type": "code",
   "execution_count": null,
   "id": "1f41a859",
   "metadata": {},
   "outputs": [],
   "source": [
    "pareto_front_zdt1 = get_problem(\"zdt1\").pareto_front()"
   ]
  },
  {
   "cell_type": "code",
   "execution_count": null,
   "id": "778ccbd2",
   "metadata": {},
   "outputs": [],
   "source": [
    "fig = go.Figure(data=[go.Scatter(x=results_E1V1D1_ZDT1['combined'][1][:,0], \n",
    "                                   y=results_E1V1D1_ZDT1['combined'][1][:,1], \n",
    "                                   mode='markers', name='MESH - E1V1D1'),\n",
    "                      go.Scatter(x=results_E2V2D1_ZDT1['combined'][1][:,0], \n",
    "                                   y=results_E2V2D1_ZDT1['combined'][1][:,1], \n",
    "                                   mode='markers', name='MESH - E2V2D1'),\n",
    "                     go.Scatter(x=results_NSGA3_ZDT1['combined'][1][:,0], \n",
    "                                   y=results_NSGA3_ZDT1['combined'][1][:,1], \n",
    "                                   mode='markers', name='NSGA-III'),\n",
    "                     go.Scatter(x=pareto_front_zdt1[:,0], \n",
    "                                   y=pareto_front_zdt1[:,1], \n",
    "                                   mode='markers', name='Fronteira de Pareto')])\n",
    "fig.show()"
   ]
  },
  {
   "cell_type": "code",
   "execution_count": null,
   "id": "5ccd7f55",
   "metadata": {},
   "outputs": [],
   "source": [
    "hv = get_performance_indicator(\"hv\", ref_point=np.array([11, 11]))\n",
    "\n",
    "print('Hypervolume-E1V1D1: ', hv.do(results_E1V1D1_ZDT1['combined'][1]))\n",
    "print('Hypervolume-E2V2D1: ', hv.do(results_E2V2D1_ZDT1['combined'][1]))\n",
    "print('Hypervolume-NSGA3: ', hv.do(results_NSGA3_ZDT1['combined'][1]))\n",
    "print('Hypervolume-Pareto Front:', hv.do(pareto_front_zdt1))"
   ]
  },
  {
   "cell_type": "markdown",
   "id": "446db38f",
   "metadata": {},
   "source": [
    "## DTLZ2"
   ]
  },
  {
   "cell_type": "code",
   "execution_count": null,
   "id": "6d7f7c33",
   "metadata": {},
   "outputs": [],
   "source": [
    "with open(\"result/E1V1D1_DTLZ2.pkl\", \"rb\") as f:\n",
    "    results_E1V1D1_DTLZ2 = pickle.load(f)"
   ]
  },
  {
   "cell_type": "code",
   "execution_count": null,
   "id": "c2aa37cb",
   "metadata": {},
   "outputs": [],
   "source": [
    "with open(\"result/E2V2D1_DTLZ2_2obj.pkl\", \"rb\") as f:\n",
    "    results_E2V2D1_DTLZ2 = pickle.load(f)"
   ]
  },
  {
   "cell_type": "code",
   "execution_count": null,
   "id": "31198115",
   "metadata": {},
   "outputs": [],
   "source": [
    "with open(\"result/NSGA3_DTLZ2.pkl\", \"rb\") as f:\n",
    "    results_NSGA3_DTLZ2 = pickle.load(f)"
   ]
  },
  {
   "cell_type": "code",
   "execution_count": null,
   "id": "61763406",
   "metadata": {},
   "outputs": [],
   "source": [
    "pareto_front_dtlz2 = get_problem(\"dtlz2\", n_obj=2).pareto_front()"
   ]
  },
  {
   "cell_type": "code",
   "execution_count": null,
   "id": "5bcedbad",
   "metadata": {},
   "outputs": [],
   "source": [
    "fig = go.Figure(data=[go.Scatter(x=results_E1V1D1_DTLZ2['combined'][1][:,0], \n",
    "                                   y=results_E1V1D1_DTLZ2['combined'][1][:,1], \n",
    "                                   mode='markers', name='MESH-E1V1D1'),\n",
    "                     go.Scatter(x=results_E2V2D1_DTLZ2['combined'][1][:,0], \n",
    "                                   y=results_E2V2D1_DTLZ2['combined'][1][:,1], \n",
    "                                   mode='markers', name='MESH-E2V2D1'),\n",
    "                     go.Scatter(x=results_NSGA3_DTLZ2['combined'][1][:,0], \n",
    "                                   y=results_NSGA3_DTLZ2['combined'][1][:,1], \n",
    "                                   mode='markers', name='NSGA-III'),\n",
    "                     go.Scatter(x=pareto_front_dtlz2[:,0], \n",
    "                                   y=pareto_front_dtlz2[:,1], \n",
    "                                   mode='markers', name='Fronteira de Pareto')])\n",
    "fig.show()"
   ]
  },
  {
   "cell_type": "code",
   "execution_count": null,
   "id": "1992346b",
   "metadata": {},
   "outputs": [],
   "source": [
    "hv = get_performance_indicator(\"hv\", ref_point=np.array([11, 11]))\n",
    "\n",
    "print('Hypervolume-E1V1D1: ', hv.do(results_E1V1D1_DTLZ2['combined'][1]))\n",
    "print('Hypervolume-E2V2D1: ', hv.do(results_E2V2D1_DTLZ2['combined'][1]))\n",
    "print('Hypervolume-NSGA3: ', hv.do(results_NSGA3_DTLZ2['combined'][1]))\n",
    "print('Hypervolume-Pareto Front:', hv.do(pareto_front_dtlz2))"
   ]
  },
  {
   "cell_type": "markdown",
   "id": "e686908c",
   "metadata": {},
   "source": [
    "## ZDT2"
   ]
  },
  {
   "cell_type": "code",
   "execution_count": null,
   "id": "12eb4f57",
   "metadata": {},
   "outputs": [],
   "source": [
    "with open(\"result/E1V1D1_ZDT2.pkl\", \"rb\") as f:\n",
    "    results_E1V1D1_ZDT2 = pickle.load(f)"
   ]
  },
  {
   "cell_type": "code",
   "execution_count": null,
   "id": "551c2f93",
   "metadata": {},
   "outputs": [],
   "source": [
    "with open(\"result/E2V2D1_ZDT2.pkl\", \"rb\") as f:\n",
    "    results_E2V2D1_ZDT2 = pickle.load(f)"
   ]
  },
  {
   "cell_type": "code",
   "execution_count": null,
   "id": "e1f75b9a",
   "metadata": {},
   "outputs": [],
   "source": [
    "with open(\"result/NSGA3_ZDT2.pkl\", \"rb\") as f:\n",
    "    results_NSGA3_ZDT2 = pickle.load(f)"
   ]
  },
  {
   "cell_type": "code",
   "execution_count": null,
   "id": "355de28c",
   "metadata": {},
   "outputs": [],
   "source": [
    "pareto_front_zdt2 = get_problem(\"zdt2\").pareto_front()"
   ]
  },
  {
   "cell_type": "code",
   "execution_count": null,
   "id": "71f98adc",
   "metadata": {},
   "outputs": [],
   "source": [
    "fig = go.Figure(data=[go.Scatter(x=results_E1V1D1_ZDT2['combined'][1][:,0], \n",
    "                                   y=results_E1V1D1_ZDT2['combined'][1][:,1], \n",
    "                                   mode='markers', name='MESH-E1V1D1'),\n",
    "                     go.Scatter(x=results_E2V2D1_ZDT2['combined'][1][:,0], \n",
    "                                   y=results_E2V2D1_ZDT2['combined'][1][:,1], \n",
    "                                   mode='markers', name='MESH-E2V2D1'),\n",
    "                     go.Scatter(x=results_NSGA3_ZDT2['combined'][1][:,0], \n",
    "                                   y=results_NSGA3_ZDT2['combined'][1][:,1], \n",
    "                                   mode='markers', name='NSGA-III'),\n",
    "                     go.Scatter(x=pareto_front_zdt2[:,0], \n",
    "                                   y=pareto_front_zdt2[:,1], \n",
    "                                   mode='markers', name='Fronteira de Pareto')])\n",
    "fig.show()"
   ]
  },
  {
   "cell_type": "code",
   "execution_count": null,
   "id": "cf940e95",
   "metadata": {},
   "outputs": [],
   "source": [
    "hv = get_performance_indicator(\"hv\", ref_point=np.array([11, 11]))\n",
    "\n",
    "print('Hypervolume-E1V1D1: ', hv.do(results_E1V1D1_ZDT2['combined'][1]))\n",
    "print('Hypervolume-E2V2D1: ', hv.do(results_E2V2D1_ZDT2['combined'][1]))\n",
    "print('Hypervolume-NSGA3: ', hv.do(results_NSGA3_ZDT2['combined'][1]))\n",
    "print('Hypervolume-Pareto Front:', hv.do(pareto_front_zdt2))"
   ]
  },
  {
   "cell_type": "markdown",
   "id": "1a5018c4",
   "metadata": {},
   "source": [
    "## DTLZ3"
   ]
  },
  {
   "cell_type": "code",
   "execution_count": null,
   "id": "4adbba06",
   "metadata": {},
   "outputs": [],
   "source": [
    "with open(\"result/E1V1D1_DTLZ3.pkl\", \"rb\") as f:\n",
    "    results_E1V1D1_DTLZ3 = pickle.load(f)"
   ]
  },
  {
   "cell_type": "code",
   "execution_count": null,
   "id": "26ee7604",
   "metadata": {},
   "outputs": [],
   "source": [
    "with open(\"result/E2V2D1_DTLZ3_2obj.pkl\", \"rb\") as f:\n",
    "    results_E2V2D1_DTLZ3 = pickle.load(f)"
   ]
  },
  {
   "cell_type": "code",
   "execution_count": null,
   "id": "b269d9e8",
   "metadata": {},
   "outputs": [],
   "source": [
    "with open(\"result/NSGA3_DTLZ3.pkl\", \"rb\") as f:\n",
    "    results_NSGA3_DTLZ3 = pickle.load(f)"
   ]
  },
  {
   "cell_type": "code",
   "execution_count": null,
   "id": "1ba5c04b",
   "metadata": {},
   "outputs": [],
   "source": [
    "pareto_front_dtlz3 = get_problem(\"dtlz3\", n_obj=2).pareto_front()"
   ]
  },
  {
   "cell_type": "code",
   "execution_count": null,
   "id": "8f049d09",
   "metadata": {},
   "outputs": [],
   "source": [
    "fig = go.Figure(data=[go.Scatter(x=results_E1V1D1_DTLZ3['combined'][1][:,0], \n",
    "                                   y=results_E1V1D1_DTLZ3['combined'][1][:,1], \n",
    "                                   mode='markers', name='MESH-E1V1D1'),\n",
    "                     go.Scatter(x=results_E2V2D1_DTLZ3['combined'][1][:,0], \n",
    "                                   y=results_E2V2D1_DTLZ3['combined'][1][:,1], \n",
    "                                   mode='markers', name='MESH-E2V2D1'),\n",
    "                     go.Scatter(x=results_NSGA3_DTLZ3['combined'][1][:,0], \n",
    "                                   y=results_NSGA3_DTLZ3['combined'][1][:,1], \n",
    "                                   mode='markers', name='NSGA-III'),\n",
    "                     go.Scatter(x=pareto_front_dtlz3[:,0], \n",
    "                                   y=pareto_front_dtlz3[:,1], \n",
    "                                   mode='markers', name='Fronteira de Pareto')])\n",
    "fig.show()"
   ]
  },
  {
   "cell_type": "code",
   "execution_count": null,
   "id": "64671350",
   "metadata": {},
   "outputs": [],
   "source": [
    "hv = get_performance_indicator(\"hv\", ref_point=np.array([11, 11]))\n",
    "\n",
    "print('Hypervolume-E1V1D1: ', hv.do(results_E1V1D1_DTLZ3['combined'][1]))\n",
    "print('Hypervolume-E2V2D1: ', hv.do(results_E2V2D1_DTLZ3['combined'][1]))\n",
    "print('Hypervolume-NSGA3: ', hv.do(results_NSGA3_DTLZ3['combined'][1]))\n",
    "print('Hypervolume-Pareto Front:', hv.do(pareto_front_dtlz3))"
   ]
  },
  {
   "cell_type": "markdown",
   "id": "c2b76608",
   "metadata": {},
   "source": [
    "## ZDT3"
   ]
  },
  {
   "cell_type": "code",
   "execution_count": null,
   "id": "b2602405",
   "metadata": {},
   "outputs": [],
   "source": [
    "with open(\"result/E1V1D1_ZDT3.pkl\", \"rb\") as f:\n",
    "    results_E1V1D1_ZDT3 = pickle.load(f)"
   ]
  },
  {
   "cell_type": "code",
   "execution_count": null,
   "id": "a5aac26f",
   "metadata": {},
   "outputs": [],
   "source": [
    "with open(\"result/E2V2D1_ZDT3.pkl\", \"rb\") as f:\n",
    "    results_E2V2D1_ZDT3 = pickle.load(f)"
   ]
  },
  {
   "cell_type": "code",
   "execution_count": null,
   "id": "9ba816c8",
   "metadata": {},
   "outputs": [],
   "source": [
    "with open(\"result/NSGA3_ZDT3.pkl\", \"rb\") as f:\n",
    "    results_NSGA3_ZDT3 = pickle.load(f)"
   ]
  },
  {
   "cell_type": "code",
   "execution_count": null,
   "id": "b6d3becc",
   "metadata": {},
   "outputs": [],
   "source": [
    "pareto_front_zdt3 = get_problem(\"zdt3\").pareto_front()"
   ]
  },
  {
   "cell_type": "code",
   "execution_count": null,
   "id": "cb789682",
   "metadata": {},
   "outputs": [],
   "source": [
    "fig = go.Figure(data=[go.Scatter(x=results_E1V1D1_ZDT3['combined'][1][:,0], \n",
    "                                   y=results_E1V1D1_ZDT3['combined'][1][:,1], \n",
    "                                   mode='markers', name='MESH-E1V1D1'),\n",
    "                     go.Scatter(x=results_E2V2D1_ZDT3['combined'][1][:,0], \n",
    "                                   y=results_E2V2D1_ZDT3['combined'][1][:,1], \n",
    "                                   mode='markers', name='MESH-E2V2D1'),\n",
    "                     go.Scatter(x=results_NSGA3_ZDT3['combined'][1][:,0], \n",
    "                                   y=results_NSGA3_ZDT3['combined'][1][:,1], \n",
    "                                   mode='markers', name='NSGA-III'),\n",
    "                     go.Scatter(x=pareto_front_zdt3[:,0], \n",
    "                                   y=pareto_front_zdt3[:,1], \n",
    "                                   mode='markers', name='Fronteira de Pareto')])\n",
    "fig.show()"
   ]
  },
  {
   "cell_type": "code",
   "execution_count": null,
   "id": "d11cea69",
   "metadata": {},
   "outputs": [],
   "source": [
    "hv = get_performance_indicator(\"hv\", ref_point=np.array([11, 11]))\n",
    "\n",
    "print('Hypervolume-E1V1D1: ', hv.do(results_E1V1D1_ZDT3['combined'][1]))\n",
    "print('Hypervolume-E2V2D1: ', hv.do(results_E2V2D1_ZDT3['combined'][1]))\n",
    "print('Hypervolume-NSGA3: ', hv.do(results_NSGA3_ZDT3['combined'][1]))\n",
    "print('Hypervolume-Pareto Front:', hv.do(pareto_front_zdt3))"
   ]
  },
  {
   "cell_type": "markdown",
   "id": "f9cec2cd",
   "metadata": {},
   "source": [
    "## DTLZ4"
   ]
  },
  {
   "cell_type": "code",
   "execution_count": null,
   "id": "28f68047",
   "metadata": {},
   "outputs": [],
   "source": [
    "with open(\"result/E1V1D1_DTLZ4.pkl\", \"rb\") as f:\n",
    "    results_E1V1D1_DTLZ4 = pickle.load(f)"
   ]
  },
  {
   "cell_type": "code",
   "execution_count": null,
   "id": "4d013d7b",
   "metadata": {},
   "outputs": [],
   "source": [
    "with open(\"result/NSGA3_DTLZ4.pkl\", \"rb\") as f:\n",
    "    results_NSGA3_DTLZ4 = pickle.load(f)"
   ]
  },
  {
   "cell_type": "code",
   "execution_count": null,
   "id": "f6ea870b",
   "metadata": {},
   "outputs": [],
   "source": [
    "pareto_front_dtlz4 = get_problem(\"dtlz4\", n_obj=2).pareto_front()"
   ]
  },
  {
   "cell_type": "code",
   "execution_count": null,
   "id": "765c8be2",
   "metadata": {},
   "outputs": [],
   "source": [
    "fig = go.Figure(data=[go.Scatter(x=results_E1V1D1_DTLZ4['combined'][1][:,0], \n",
    "                                   y=results_E1V1D1_DTLZ4['combined'][1][:,1], \n",
    "                                   mode='markers', name='MESH-E1V1D1'),\n",
    "                     go.Scatter(x=results_NSGA3_DTLZ4['combined'][1][:,0], \n",
    "                                   y=results_NSGA3_DTLZ4['combined'][1][:,1], \n",
    "                                   mode='markers', name='NSGA-III'),\n",
    "                     go.Scatter(x=pareto_front_dtlz4[:,0], \n",
    "                                   y=pareto_front_dtlz4[:,1], \n",
    "                                   mode='markers', name='Fronteira de Pareto')])\n",
    "fig.show()"
   ]
  },
  {
   "cell_type": "code",
   "execution_count": null,
   "id": "180a3e85",
   "metadata": {},
   "outputs": [],
   "source": [
    "hv = get_performance_indicator(\"hv\", ref_point=np.array([11, 11]))\n",
    "\n",
    "print('Hypervolume-E1V1D1: ', hv.do(results_E1V1D1_DTLZ4['combined'][1]))\n",
    "print('Hypervolume-NSGA3: ', hv.do(results_NSGA3_DTLZ4['combined'][1]))\n",
    "print('Hypervolume-Pareto Front:', hv.do(pareto_front_dtlz4))"
   ]
  },
  {
   "cell_type": "markdown",
   "id": "9dee1f4c",
   "metadata": {},
   "source": [
    "## ZDT4"
   ]
  },
  {
   "cell_type": "code",
   "execution_count": null,
   "id": "0f988e74",
   "metadata": {},
   "outputs": [],
   "source": [
    "with open(\"result/E1V1D1_ZDT4.pkl\", \"rb\") as f:\n",
    "    results_E1V1D1_ZDT4 = pickle.load(f)"
   ]
  },
  {
   "cell_type": "code",
   "execution_count": null,
   "id": "f43d8254",
   "metadata": {},
   "outputs": [],
   "source": [
    "with open(\"result/E2V2D1_ZDT4.pkl\", \"rb\") as f:\n",
    "    results_E2V2D1_ZDT4 = pickle.load(f)"
   ]
  },
  {
   "cell_type": "code",
   "execution_count": null,
   "id": "a23b42d5",
   "metadata": {},
   "outputs": [],
   "source": [
    "with open(\"result/NSGA3_ZDT4.pkl\", \"rb\") as f:\n",
    "    results_NSGA3_ZDT4 = pickle.load(f)"
   ]
  },
  {
   "cell_type": "code",
   "execution_count": null,
   "id": "9f8dd119",
   "metadata": {},
   "outputs": [],
   "source": [
    "pareto_front_zdt4 = get_problem(\"zdt4\").pareto_front()"
   ]
  },
  {
   "cell_type": "code",
   "execution_count": null,
   "id": "c27dad66",
   "metadata": {},
   "outputs": [],
   "source": [
    "fig = go.Figure(data=[go.Scatter(x=results_E1V1D1_ZDT4['combined'][1][:,0], \n",
    "                                   y=results_E1V1D1_ZDT4['combined'][1][:,1], \n",
    "                                   mode='markers', name='MESH-E1V1D1'),\n",
    "                     go.Scatter(x=results_E2V2D1_ZDT4['combined'][1][:,0], \n",
    "                                   y=results_E2V2D1_ZDT4['combined'][1][:,1], \n",
    "                                   mode='markers', name='MESH-E2V2D1'),\n",
    "                     go.Scatter(x=results_NSGA3_ZDT4['combined'][1][:,0], \n",
    "                                   y=results_NSGA3_ZDT4['combined'][1][:,1], \n",
    "                                   mode='markers', name='NSGA-III'),\n",
    "                     go.Scatter(x=pareto_front_zdt4[:,0], \n",
    "                                   y=pareto_front_zdt4[:,1], \n",
    "                                   mode='markers', name='Fronteira de Pareto')])\n",
    "fig.show()"
   ]
  },
  {
   "cell_type": "code",
   "execution_count": null,
   "id": "b6b56817",
   "metadata": {},
   "outputs": [],
   "source": [
    "hv = get_performance_indicator(\"hv\", ref_point=np.array([11, 11]))\n",
    "\n",
    "print('Hypervolume-E1V1D1: ', hv.do(results_E1V1D1_ZDT4['combined'][1]))\n",
    "print('Hypervolume-E2V2D1: ', hv.do(results_E2V2D1_ZDT4['combined'][1]))\n",
    "print('Hypervolume-NSGA3: ', hv.do(results_NSGA3_ZDT4['combined'][1]))\n",
    "print('Hypervolume-Pareto Front:', hv.do(pareto_front_zdt4))"
   ]
  },
  {
   "cell_type": "markdown",
   "id": "757cbb96",
   "metadata": {},
   "source": [
    "## DTLZ5"
   ]
  },
  {
   "cell_type": "code",
   "execution_count": null,
   "id": "972c9fe3",
   "metadata": {},
   "outputs": [],
   "source": [
    "with open(\"result/E1V1D1_DTLZ5.pkl\", \"rb\") as f:\n",
    "    results_E1V1D1_DTLZ5 = pickle.load(f)"
   ]
  },
  {
   "cell_type": "code",
   "execution_count": null,
   "id": "a39a0fe0",
   "metadata": {},
   "outputs": [],
   "source": [
    "with open(\"result/E2V2D1_DTLZ5_2obj.pkl\", \"rb\") as f:\n",
    "    results_E2V2D1_DTLZ5 = pickle.load(f)"
   ]
  },
  {
   "cell_type": "code",
   "execution_count": null,
   "id": "893a8b64",
   "metadata": {},
   "outputs": [],
   "source": [
    "with open(\"result/NSGA3_DTLZ5.pkl\", \"rb\") as f:\n",
    "    results_NSGA3_DTLZ5 = pickle.load(f)"
   ]
  },
  {
   "cell_type": "code",
   "execution_count": null,
   "id": "7a1e84f0",
   "metadata": {},
   "outputs": [],
   "source": [
    "fig = go.Figure(data=[go.Scatter(x=results_E1V1D1_DTLZ5['combined'][1][:,0], \n",
    "                                   y=results_E1V1D1_DTLZ5['combined'][1][:,1], \n",
    "                                   mode='markers', name='MESH-E1V1D1'),\n",
    "                     go.Scatter(x=results_E2V2D1_DTLZ5['combined'][1][:,0], \n",
    "                                   y=results_E2V2D1_DTLZ5['combined'][1][:,1], \n",
    "                                   mode='markers', name='MESH-E1V1D1'),\n",
    "                     go.Scatter(x=results_NSGA3_DTLZ5['combined'][1][:,0], \n",
    "                                   y=results_NSGA3_DTLZ5['combined'][1][:,1], \n",
    "                                   mode='markers', name='NSGA-III')])\n",
    "fig.show()"
   ]
  },
  {
   "cell_type": "code",
   "execution_count": null,
   "id": "c0cbadfe",
   "metadata": {},
   "outputs": [],
   "source": [
    "hv = get_performance_indicator(\"hv\", ref_point=np.array([11, 11]))\n",
    "\n",
    "print('Hypervolume-E1V1D1: ', hv.do(results_E1V1D1_DTLZ5['combined'][1]))\n",
    "print('Hypervolume-E2V2D1: ', hv.do(results_E2V2D1_DTLZ5['combined'][1]))\n",
    "print('Hypervolume-NSGA3: ', hv.do(results_NSGA3_DTLZ5['combined'][1]))"
   ]
  },
  {
   "cell_type": "markdown",
   "id": "a54b0e11",
   "metadata": {},
   "source": [
    "## DTLZ6"
   ]
  },
  {
   "cell_type": "code",
   "execution_count": null,
   "id": "45d29aeb",
   "metadata": {},
   "outputs": [],
   "source": [
    "with open(\"result/E1V1D1_DTLZ6.pkl\", \"rb\") as f:\n",
    "    results_E1V1D1_DTLZ6 = pickle.load(f)"
   ]
  },
  {
   "cell_type": "code",
   "execution_count": null,
   "id": "084c32ab",
   "metadata": {},
   "outputs": [],
   "source": [
    "with open(\"result/E2V2D1_DTLZ6_2obj.pkl\", \"rb\") as f:\n",
    "    results_E2V2D1_DTLZ6 = pickle.load(f)"
   ]
  },
  {
   "cell_type": "code",
   "execution_count": null,
   "id": "8ff0491f",
   "metadata": {},
   "outputs": [],
   "source": [
    "with open(\"result/NSGA3_DTLZ6.pkl\", \"rb\") as f:\n",
    "    results_NSGA3_DTLZ6 = pickle.load(f)"
   ]
  },
  {
   "cell_type": "code",
   "execution_count": null,
   "id": "4eb447dd",
   "metadata": {},
   "outputs": [],
   "source": [
    "fig = go.Figure(data=[go.Scatter(x=results_E1V1D1_DTLZ6['combined'][1][:,0], \n",
    "                                   y=results_E1V1D1_DTLZ6['combined'][1][:,1], \n",
    "                                   mode='markers', name='MESH-E1V1D1'),\n",
    "                     go.Scatter(x=results_E2V2D1_DTLZ6['combined'][1][:,0], \n",
    "                                   y=results_E2V2D1_DTLZ6['combined'][1][:,1], \n",
    "                                   mode='markers', name='MESH-E1V1D1'),\n",
    "                     go.Scatter(x=results_NSGA3_DTLZ6['combined'][1][:,0], \n",
    "                                   y=results_NSGA3_DTLZ6['combined'][1][:,1], \n",
    "                                   mode='markers', name='NSGA-III')])\n",
    "fig.show()"
   ]
  },
  {
   "cell_type": "code",
   "execution_count": null,
   "id": "f585387b",
   "metadata": {},
   "outputs": [],
   "source": [
    "hv = get_performance_indicator(\"hv\", ref_point=np.array([11, 11]))\n",
    "\n",
    "print('Hypervolume-E1V1D1: ', hv.do(results_E1V1D1_DTLZ6['combined'][1]))\n",
    "print('Hypervolume-E2V2D1: ', hv.do(results_E2V2D1_DTLZ6['combined'][1]))\n",
    "print('Hypervolume-NSGA3: ', hv.do(results_NSGA3_DTLZ6['combined'][1]))"
   ]
  },
  {
   "cell_type": "markdown",
   "id": "83c72606",
   "metadata": {},
   "source": [
    "## DTLZ7"
   ]
  },
  {
   "cell_type": "code",
   "execution_count": null,
   "id": "a1997cfb",
   "metadata": {},
   "outputs": [],
   "source": [
    "with open(\"result/E1V1D1_DTLZ7.pkl\", \"rb\") as f:\n",
    "    results_E1V1D1_DTLZ7 = pickle.load(f)"
   ]
  },
  {
   "cell_type": "code",
   "execution_count": null,
   "id": "3d515e9e",
   "metadata": {},
   "outputs": [],
   "source": [
    "with open(\"result/E2V2D1_DTLZ7_2obj.pkl\", \"rb\") as f:\n",
    "    results_E2V2D1_DTLZ7 = pickle.load(f)"
   ]
  },
  {
   "cell_type": "code",
   "execution_count": null,
   "id": "34d2ec41",
   "metadata": {},
   "outputs": [],
   "source": [
    "with open(\"result/NSGA3_DTLZ7.pkl\", \"rb\") as f:\n",
    "    results_NSGA3_DTLZ7 = pickle.load(f)"
   ]
  },
  {
   "cell_type": "code",
   "execution_count": null,
   "id": "9d2733c2",
   "metadata": {
    "scrolled": false
   },
   "outputs": [],
   "source": [
    "fig = go.Figure(data=[go.Scatter(x=results_E1V1D1_DTLZ7['combined'][1][:,0], \n",
    "                                   y=results_E1V1D1_DTLZ7['combined'][1][:,1], \n",
    "                                   mode='markers', name='MESH-E1V1D1'),\n",
    "                     go.Scatter(x=results_E2V2D1_DTLZ7['combined'][1][:,0], \n",
    "                                   y=results_E2V2D1_DTLZ7['combined'][1][:,1], \n",
    "                                   mode='markers', name='MESH-E1V1D1'),\n",
    "                     go.Scatter(x=results_NSGA3_DTLZ7['combined'][1][:,0], \n",
    "                                   y=results_NSGA3_DTLZ7['combined'][1][:,1], \n",
    "                                   mode='markers', name='NSGA-III')])\n",
    "fig.show()"
   ]
  },
  {
   "cell_type": "code",
   "execution_count": null,
   "id": "5658e776",
   "metadata": {},
   "outputs": [],
   "source": [
    "hv = get_performance_indicator(\"hv\", ref_point=np.array([11, 11]))\n",
    "\n",
    "print('Hypervolume-E1V1D1: ', hv.do(results_E1V1D1_DTLZ7['combined'][1]))\n",
    "print('Hypervolume-E2V2D1: ', hv.do(results_E2V2D1_DTLZ7['combined'][1]))\n",
    "print('Hypervolume-NSGA3: ', hv.do(results_NSGA3_DTLZ7['combined'][1]))"
   ]
  },
  {
   "cell_type": "markdown",
   "id": "5114988f",
   "metadata": {},
   "source": [
    "# Resultados - MultiObjetivo"
   ]
  },
  {
   "cell_type": "markdown",
   "id": "941b2c5e",
   "metadata": {},
   "source": [
    "## DTLZ1"
   ]
  },
  {
   "cell_type": "code",
   "execution_count": null,
   "id": "ea71e23d",
   "metadata": {},
   "outputs": [],
   "source": [
    "with open(\"result/E2V2D1_DTLZ1_3obj.pkl\", \"rb\") as f:\n",
    "    results_E2V2D1_DTLZ1 = pickle.load(f)"
   ]
  },
  {
   "cell_type": "code",
   "execution_count": null,
   "id": "d15d0a50",
   "metadata": {},
   "outputs": [],
   "source": [
    "with open(\"result/NSGA3_DTLZ1_3obj.pkl\", \"rb\") as f:\n",
    "    results_NSGA3_DTLZ1 = pickle.load(f)"
   ]
  },
  {
   "cell_type": "code",
   "execution_count": null,
   "id": "4ab8972f",
   "metadata": {},
   "outputs": [],
   "source": [
    "pareto_front_dtlz1 = get_problem(\"dtlz1\", n_obj=3).pareto_front()"
   ]
  },
  {
   "cell_type": "code",
   "execution_count": null,
   "id": "18566f02",
   "metadata": {
    "scrolled": false
   },
   "outputs": [],
   "source": [
    "fig = go.Figure(data=[go.Scatter3d(x=results_E2V2D1_DTLZ1['combined'][1][:,0], \n",
    "                                   y=results_E2V2D1_DTLZ1['combined'][1][:,1], \n",
    "                                     z=results_E2V2D1_DTLZ1['combined'][1][:,2],\n",
    "                                   mode='markers', name='MESH-E2V2D1', marker=dict(size=3)),\n",
    "                      go.Scatter3d(x=results_NSGA3_DTLZ1['combined'][1][:,0], \n",
    "                                   y=results_NSGA3_DTLZ1['combined'][1][:,1], \n",
    "                                     z=results_NSGA3_DTLZ1['combined'][1][:,2],\n",
    "                                   mode='markers', name='NSGA-III', marker=dict(size=3)),\n",
    "                      go.Scatter3d(x=pareto_front_dtlz1[:,0], \n",
    "                                   y=pareto_front_dtlz1[:,1], \n",
    "                                   z=pareto_front_dtlz1[:,2], \n",
    "                                   mode='markers', name='Fronteira de Pareto', marker=dict(size=3))\n",
    "                     ])\n",
    "fig.show()"
   ]
  },
  {
   "cell_type": "code",
   "execution_count": null,
   "id": "b45b7227",
   "metadata": {},
   "outputs": [],
   "source": [
    "hv = get_performance_indicator(\"hv\", ref_point=np.array([11, 11, 11]))\n",
    "\n",
    "print('Hypervolume-E2V2D1: ', hv.do(results_E2V2D1_DTLZ1['combined'][1]))\n",
    "print('Hypervolume-NSGA3: ', hv.do(results_NSGA3_DTLZ1['combined'][1]))\n",
    "print('Hypervolume-Pareto Front:', hv.do(pareto_front_dtlz1))"
   ]
  },
  {
   "cell_type": "markdown",
   "id": "6489b817",
   "metadata": {},
   "source": [
    "## DTLZ2"
   ]
  },
  {
   "cell_type": "code",
   "execution_count": null,
   "id": "2950e4e3",
   "metadata": {},
   "outputs": [],
   "source": [
    "with open(\"result/E2V2D1_DTLZ2_3obj.pkl\", \"rb\") as f:\n",
    "    results_E2V2D1_DTLZ2 = pickle.load(f)"
   ]
  },
  {
   "cell_type": "code",
   "execution_count": null,
   "id": "03b7261b",
   "metadata": {},
   "outputs": [],
   "source": [
    "with open(\"result/NSGA3_DTLZ2_3obj.pkl\", \"rb\") as f:\n",
    "    results_NSGA3_DTLZ2 = pickle.load(f)"
   ]
  },
  {
   "cell_type": "code",
   "execution_count": null,
   "id": "6c7b5bcc",
   "metadata": {},
   "outputs": [],
   "source": [
    "pareto_front_dtlz2 = get_problem(\"dtlz2\", n_obj=3).pareto_front()"
   ]
  },
  {
   "cell_type": "code",
   "execution_count": null,
   "id": "663732f7",
   "metadata": {},
   "outputs": [],
   "source": [
    "fig = go.Figure(data=[go.Scatter3d(x=results_E2V2D1_DTLZ2['combined'][1][:,0], \n",
    "                                   y=results_E2V2D1_DTLZ2['combined'][1][:,1], \n",
    "                                     z=results_E2V2D1_DTLZ2['combined'][1][:,2],\n",
    "                                   mode='markers', name='MESH-E2V2D1', marker=dict(size=3)),\n",
    "                      go.Scatter3d(x=results_NSGA3_DTLZ2['combined'][1][:,0], \n",
    "                                   y=results_NSGA3_DTLZ2['combined'][1][:,1], \n",
    "                                     z=results_NSGA3_DTLZ2['combined'][1][:,2],\n",
    "                                   mode='markers', name='NSGA-III', marker=dict(size=3)),\n",
    "                      go.Scatter3d(x=pareto_front_dtlz2[:,0], \n",
    "                                   y=pareto_front_dtlz2[:,1], \n",
    "                                   z=pareto_front_dtlz2[:,2], \n",
    "                                   mode='markers', name='Fronteira de Pareto', marker=dict(size=3))\n",
    "                     ])\n",
    "fig.show()"
   ]
  },
  {
   "cell_type": "code",
   "execution_count": null,
   "id": "7acf433f",
   "metadata": {},
   "outputs": [],
   "source": [
    "hv = get_performance_indicator(\"hv\", ref_point=np.array([11, 11, 11]))\n",
    "\n",
    "print('Hypervolume-E2V2D1: ', hv.do(results_E2V2D1_DTLZ2['combined'][1]))\n",
    "print('Hypervolume-NSGA3: ', hv.do(results_NSGA3_DTLZ2['combined'][1]))\n",
    "print('Hypervolume-Pareto Front:', hv.do(pareto_front_dtlz2))"
   ]
  },
  {
   "cell_type": "markdown",
   "id": "9c193e37",
   "metadata": {},
   "source": [
    "## DTLZ3"
   ]
  },
  {
   "cell_type": "code",
   "execution_count": null,
   "id": "a1febf45",
   "metadata": {},
   "outputs": [],
   "source": [
    "with open(\"result/E2V2D1_DTLZ3_3obj.pkl\", \"rb\") as f:\n",
    "    results_E2V2D1_DTLZ3 = pickle.load(f)"
   ]
  },
  {
   "cell_type": "code",
   "execution_count": null,
   "id": "4d94325f",
   "metadata": {},
   "outputs": [],
   "source": [
    "with open(\"result/NSGA3_DTLZ3_3obj.pkl\", \"rb\") as f:\n",
    "    results_NSGA3_DTLZ3 = pickle.load(f)"
   ]
  },
  {
   "cell_type": "code",
   "execution_count": null,
   "id": "8bbe234b",
   "metadata": {},
   "outputs": [],
   "source": [
    "pareto_front_dtlz3 = get_problem(\"dtlz3\", n_obj=3).pareto_front()"
   ]
  },
  {
   "cell_type": "code",
   "execution_count": null,
   "id": "cf57d46a",
   "metadata": {},
   "outputs": [],
   "source": [
    "fig = go.Figure(data=[go.Scatter3d(x=results_E2V2D1_DTLZ3['combined'][1][:,0], \n",
    "                                   y=results_E2V2D1_DTLZ3['combined'][1][:,1], \n",
    "                                     z=results_E2V2D1_DTLZ3['combined'][1][:,2],\n",
    "                                   mode='markers', name='MESH-E2V2D1', marker=dict(size=3)),\n",
    "                      go.Scatter3d(x=results_NSGA3_DTLZ3['combined'][1][:,0], \n",
    "                                   y=results_NSGA3_DTLZ3['combined'][1][:,1], \n",
    "                                     z=results_NSGA3_DTLZ3['combined'][1][:,2],\n",
    "                                   mode='markers', name='NSGA-III', marker=dict(size=3)),\n",
    "                      go.Scatter3d(x=pareto_front_dtlz3[:,0], \n",
    "                                   y=pareto_front_dtlz3[:,1], \n",
    "                                   z=pareto_front_dtlz3[:,2], \n",
    "                                   mode='markers', name='Fronteira de Pareto', marker=dict(size=3))\n",
    "                     ])\n",
    "fig.show()"
   ]
  },
  {
   "cell_type": "code",
   "execution_count": null,
   "id": "17ad2889",
   "metadata": {},
   "outputs": [],
   "source": [
    "hv = get_performance_indicator(\"hv\", ref_point=np.array([11, 11, 11]))\n",
    "\n",
    "print('Hypervolume-E2V2D1: ', hv.do(results_E2V2D1_DTLZ3['combined'][1]))\n",
    "print('Hypervolume-NSGA3: ', hv.do(results_NSGA3_DTLZ3['combined'][1]))\n",
    "print('Hypervolume-Pareto Front:', hv.do(pareto_front_dtlz3))"
   ]
  },
  {
   "cell_type": "markdown",
   "id": "316def7b",
   "metadata": {},
   "source": [
    "## DTLZ5"
   ]
  },
  {
   "cell_type": "code",
   "execution_count": null,
   "id": "19852436",
   "metadata": {},
   "outputs": [],
   "source": [
    "with open(\"result/E2V2D1_DTLZ5_3obj.pkl\", \"rb\") as f:\n",
    "    results_E2V2D1_DTLZ5 = pickle.load(f)"
   ]
  },
  {
   "cell_type": "code",
   "execution_count": null,
   "id": "b1b9853b",
   "metadata": {},
   "outputs": [],
   "source": [
    "with open(\"result/NSGA3_DTLZ5_3obj.pkl\", \"rb\") as f:\n",
    "    results_NSGA3_DTLZ5 = pickle.load(f)"
   ]
  },
  {
   "cell_type": "code",
   "execution_count": null,
   "id": "4dc6faec",
   "metadata": {},
   "outputs": [],
   "source": [
    "pareto_front_dtlz5 = get_problem(\"dtlz5\", n_obj=3).pareto_front()"
   ]
  },
  {
   "cell_type": "code",
   "execution_count": null,
   "id": "22cc9e97",
   "metadata": {},
   "outputs": [],
   "source": [
    "fig = go.Figure(data=[go.Scatter3d(x=results_E2V2D1_DTLZ5['combined'][1][:,0], \n",
    "                                   y=results_E2V2D1_DTLZ5['combined'][1][:,1], \n",
    "                                     z=results_E2V2D1_DTLZ5['combined'][1][:,2],\n",
    "                                   mode='markers', name='MESH-E2V2D1', marker=dict(size=3)),\n",
    "                      go.Scatter3d(x=results_NSGA3_DTLZ5['combined'][1][:,0], \n",
    "                                   y=results_NSGA3_DTLZ5['combined'][1][:,1], \n",
    "                                     z=results_NSGA3_DTLZ5['combined'][1][:,2],\n",
    "                                   mode='markers', name='NSGA-III', marker=dict(size=3)),\n",
    "                      go.Scatter3d(x=pareto_front_dtlz5[:,0], \n",
    "                                   y=pareto_front_dtlz5[:,1], \n",
    "                                   z=pareto_front_dtlz5[:,2], \n",
    "                                   mode='markers', name='Fronteira de Pareto', marker=dict(size=3))\n",
    "                     ])\n",
    "fig.show()"
   ]
  },
  {
   "cell_type": "code",
   "execution_count": null,
   "id": "04d7ad3e",
   "metadata": {},
   "outputs": [],
   "source": [
    "hv = get_performance_indicator(\"hv\", ref_point=np.array([11, 11, 11]))\n",
    "\n",
    "print('Hypervolume-E2V2D1: ', hv.do(results_E2V2D1_DTLZ5['combined'][1]))\n",
    "print('Hypervolume-NSGA3: ', hv.do(results_NSGA3_DTLZ5['combined'][1]))\n",
    "print('Hypervolume-Pareto Front:', hv.do(pareto_front_dtlz5))"
   ]
  },
  {
   "cell_type": "markdown",
   "id": "91dd21f3",
   "metadata": {},
   "source": [
    "## DTLZ6"
   ]
  },
  {
   "cell_type": "code",
   "execution_count": null,
   "id": "d85ae09b",
   "metadata": {},
   "outputs": [],
   "source": [
    "with open(\"result/E2V2D1_DTLZ6_3obj.pkl\", \"rb\") as f:\n",
    "    results_E2V2D1_DTLZ6 = pickle.load(f)"
   ]
  },
  {
   "cell_type": "code",
   "execution_count": null,
   "id": "6d5c0c69",
   "metadata": {},
   "outputs": [],
   "source": [
    "with open(\"result/NSGA3_DTLZ6_3obj.pkl\", \"rb\") as f:\n",
    "    results_NSGA3_DTLZ6 = pickle.load(f)"
   ]
  },
  {
   "cell_type": "code",
   "execution_count": null,
   "id": "93a7f4d5",
   "metadata": {},
   "outputs": [],
   "source": [
    "pareto_front_dtlz6 = get_problem(\"dtlz6\", n_obj=3).pareto_front()"
   ]
  },
  {
   "cell_type": "code",
   "execution_count": null,
   "id": "4e3267fa",
   "metadata": {},
   "outputs": [],
   "source": [
    "fig = go.Figure(data=[go.Scatter3d(x=results_E2V2D1_DTLZ6['combined'][1][:,0], \n",
    "                                   y=results_E2V2D1_DTLZ6['combined'][1][:,1], \n",
    "                                     z=results_E2V2D1_DTLZ6['combined'][1][:,2],\n",
    "                                   mode='markers', name='MESH-E2V2D1', marker=dict(size=3)),\n",
    "                      go.Scatter3d(x=results_NSGA3_DTLZ6['combined'][1][:,0], \n",
    "                                   y=results_NSGA3_DTLZ6['combined'][1][:,1], \n",
    "                                     z=results_NSGA3_DTLZ6['combined'][1][:,2],\n",
    "                                   mode='markers', name='NSGA-III', marker=dict(size=3)),\n",
    "                      go.Scatter3d(x=pareto_front_dtlz6[:,0], \n",
    "                                   y=pareto_front_dtlz6[:,1], \n",
    "                                   z=pareto_front_dtlz6[:,2], \n",
    "                                   mode='markers', name='Fronteira de Pareto', marker=dict(size=3))\n",
    "                     ])\n",
    "fig.show()"
   ]
  },
  {
   "cell_type": "code",
   "execution_count": null,
   "id": "41f8dac7",
   "metadata": {},
   "outputs": [],
   "source": [
    "hv = get_performance_indicator(\"hv\", ref_point=np.array([11, 11, 11]))\n",
    "\n",
    "print('Hypervolume-E2V2D1: ', hv.do(results_E2V2D1_DTLZ6['combined'][1]))\n",
    "print('Hypervolume-NSGA3: ', hv.do(results_NSGA3_DTLZ6['combined'][1]))\n",
    "print('Hypervolume-Pareto Front:', hv.do(pareto_front_dtlz6))"
   ]
  },
  {
   "cell_type": "markdown",
   "id": "aae3994f",
   "metadata": {},
   "source": [
    "## DTLZ7"
   ]
  },
  {
   "cell_type": "code",
   "execution_count": null,
   "id": "e9f0495f",
   "metadata": {},
   "outputs": [],
   "source": [
    "with open(\"result/E2V2D1_DTLZ7_3obj.pkl\", \"rb\") as f:\n",
    "    results_E2V2D1_DTLZ7 = pickle.load(f)"
   ]
  },
  {
   "cell_type": "code",
   "execution_count": null,
   "id": "7252013a",
   "metadata": {},
   "outputs": [],
   "source": [
    "with open(\"result/NSGA3_DTLZ7_3obj.pkl\", \"rb\") as f:\n",
    "    results_NSGA3_DTLZ7 = pickle.load(f)"
   ]
  },
  {
   "cell_type": "code",
   "execution_count": null,
   "id": "f5244e85",
   "metadata": {},
   "outputs": [],
   "source": [
    "pareto_front_dtlz7 = get_problem(\"dtlz7\", n_obj=3).pareto_front()"
   ]
  },
  {
   "cell_type": "code",
   "execution_count": null,
   "id": "625e3073",
   "metadata": {},
   "outputs": [],
   "source": [
    "fig = go.Figure(data=[go.Scatter3d(x=results_E2V2D1_DTLZ7['combined'][1][:,0], \n",
    "                                   y=results_E2V2D1_DTLZ7['combined'][1][:,1], \n",
    "                                     z=results_E2V2D1_DTLZ7['combined'][1][:,2],\n",
    "                                   mode='markers', name='MESH-E2V2D1', marker=dict(size=3)),\n",
    "                      go.Scatter3d(x=results_NSGA3_DTLZ7['combined'][1][:,0], \n",
    "                                   y=results_NSGA3_DTLZ7['combined'][1][:,1], \n",
    "                                     z=results_NSGA3_DTLZ7['combined'][1][:,2],\n",
    "                                   mode='markers', name='NSGA-III', marker=dict(size=3)),\n",
    "                      go.Scatter3d(x=pareto_front_dtlz7[:,0], \n",
    "                                   y=pareto_front_dtlz7[:,1], \n",
    "                                   z=pareto_front_dtlz7[:,2], \n",
    "                                   mode='markers', name='Fronteira de Pareto', marker=dict(size=3))\n",
    "                     ])\n",
    "fig.show()"
   ]
  },
  {
   "cell_type": "code",
   "execution_count": null,
   "id": "af7390f8",
   "metadata": {},
   "outputs": [],
   "source": [
    "hv = get_performance_indicator(\"hv\", ref_point=np.array([11, 11, 11]))\n",
    "\n",
    "print('Hypervolume-E2V2D1: ', hv.do(results_E2V2D1_DTLZ7['combined'][1]))\n",
    "print('Hypervolume-NSGA3: ', hv.do(results_NSGA3_DTLZ7['combined'][1]))\n",
    "print('Hypervolume-Pareto Front:', hv.do(pareto_front_dtlz7))"
   ]
  }
 ],
 "metadata": {
  "interpreter": {
   "hash": "76cec89eb79b0a15da9b85e401aeb77b7fb7189e3d9b00ed0fde621909dfa3e5"
  },
  "kernelspec": {
   "display_name": "Python 3 (ipykernel)",
   "language": "python",
   "name": "python3"
  },
  "language_info": {
   "codemirror_mode": {
    "name": "ipython",
    "version": 3
   },
   "file_extension": ".py",
   "mimetype": "text/x-python",
   "name": "python",
   "nbconvert_exporter": "python",
   "pygments_lexer": "ipython3",
   "version": "3.9.7"
  }
 },
 "nbformat": 4,
 "nbformat_minor": 5
}
